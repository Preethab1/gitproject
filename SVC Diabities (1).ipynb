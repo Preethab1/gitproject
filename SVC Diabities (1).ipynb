{
 "cells": [
  {
   "cell_type": "code",
   "execution_count": 1,
   "metadata": {},
   "outputs": [],
   "source": [
    "import warnings\n",
    "warnings.filterwarnings('ignore')"
   ]
  },
  {
   "cell_type": "code",
   "execution_count": 2,
   "metadata": {},
   "outputs": [],
   "source": [
    "import pandas as pd\n",
    "import numpy as np\n",
    "import seaborn as sns\n",
    "import matplotlib.pyplot as plt\n",
    "%matplotlib inline"
   ]
  },
  {
   "cell_type": "code",
   "execution_count": 3,
   "metadata": {},
   "outputs": [],
   "source": [
    "from sklearn.datasets import load_diabetes"
   ]
  },
  {
   "cell_type": "code",
   "execution_count": 4,
   "metadata": {},
   "outputs": [],
   "source": [
    "dia=load_diabetes()"
   ]
  },
  {
   "cell_type": "code",
   "execution_count": 5,
   "metadata": {},
   "outputs": [],
   "source": [
    "x=dia.data\n",
    "y=dia.target"
   ]
  },
  {
   "cell_type": "code",
   "execution_count": 6,
   "metadata": {},
   "outputs": [],
   "source": [
    "from sklearn.model_selection import train_test_split\n",
    "x_train,x_test,y_train,y_test=train_test_split(x,y,test_size=0.3,random_state=42)"
   ]
  },
  {
   "cell_type": "code",
   "execution_count": 8,
   "metadata": {},
   "outputs": [],
   "source": [
    "from sklearn.preprocessing import MinMaxScaler\n",
    "mi=MinMaxScaler()\n",
    "x_train_sc=mi.fit_transform(x_train)\n",
    "x_test_sc=mi.transform(x_test)"
   ]
  },
  {
   "cell_type": "code",
   "execution_count": 9,
   "metadata": {},
   "outputs": [],
   "source": [
    "from sklearn.svm import SVC,SVR\n",
    "from sklearn.model_selection import GridSearchCV"
   ]
  },
  {
   "cell_type": "code",
   "execution_count": 11,
   "metadata": {},
   "outputs": [],
   "source": [
    "svc=SVC()\n",
    "svr=SVR()\n",
    "parameter={'C':[.001,.01,.1,1,10,100,1000,10000],\n",
    "           'kernel':['linear','rbf'],\n",
    "               1'degree':[1,2,3,4],\n",
    "            'gamma':[.001,.01,.1,1,10,100,1000,10000]}\n",
    "gr=GridSearchCV(svc,parameter,cv=5,return_train_score=True,refit=True)"
   ]
  },
  {
   "cell_type": "code",
   "execution_count": 12,
   "metadata": {},
   "outputs": [
    {
     "data": {
      "text/plain": [
       "GridSearchCV(cv=5, error_score='raise-deprecating',\n",
       "             estimator=SVC(C=1.0, cache_size=200, class_weight=None, coef0=0.0,\n",
       "                           decision_function_shape='ovr', degree=3,\n",
       "                           gamma='auto_deprecated', kernel='rbf', max_iter=-1,\n",
       "                           probability=False, random_state=None, shrinking=True,\n",
       "                           tol=0.001, verbose=False),\n",
       "             iid='warn', n_jobs=None,\n",
       "             param_grid={'C': [0.001, 0.01, 0.1, 1, 10, 100, 1000, 10000],\n",
       "                         'degree': [1, 2, 3, 4],\n",
       "                         'gamma': [0.001, 0.01, 0.1, 1, 10, 100, 1000, 10000],\n",
       "                         'kernel': ['linear', 'rbf']},\n",
       "             pre_dispatch='2*n_jobs', refit=True, return_train_score=True,\n",
       "             scoring=None, verbose=0)"
      ]
     },
     "execution_count": 12,
     "metadata": {},
     "output_type": "execute_result"
    }
   ],
   "source": [
    "gr.fit(x_train_sc,y_train)"
   ]
  },
  {
   "cell_type": "code",
   "execution_count": 13,
   "metadata": {},
   "outputs": [
    {
     "data": {
      "text/plain": [
       "{'C': 1, 'degree': 1, 'gamma': 0.001, 'kernel': 'linear'}"
      ]
     },
     "execution_count": 13,
     "metadata": {},
     "output_type": "execute_result"
    }
   ],
   "source": [
    "gr.best_params_"
   ]
  },
  {
   "cell_type": "code",
   "execution_count": 14,
   "metadata": {},
   "outputs": [
    {
     "data": {
      "text/plain": [
       "0.022653721682847898"
      ]
     },
     "execution_count": 14,
     "metadata": {},
     "output_type": "execute_result"
    }
   ],
   "source": [
    "gr.best_score_"
   ]
  },
  {
   "cell_type": "code",
   "execution_count": 16,
   "metadata": {},
   "outputs": [],
   "source": [
    "y_gr=gr.predict(x_test_sc)"
   ]
  },
  {
   "cell_type": "code",
   "execution_count": 17,
   "metadata": {},
   "outputs": [
    {
     "name": "stdout",
     "output_type": "stream",
     "text": [
      "0.015037593984962405\n",
      "              precision    recall  f1-score   support\n",
      "\n",
      "        37.0       0.00      0.00      0.00         1\n",
      "        42.0       0.00      0.00      0.00         1\n",
      "        48.0       0.00      0.00      0.00         2\n",
      "        52.0       0.00      0.00      0.00         3\n",
      "        53.0       0.00      0.00      0.00         1\n",
      "        59.0       0.00      0.00      0.00         1\n",
      "        60.0       0.00      0.00      0.00         2\n",
      "        61.0       0.00      0.00      0.00         2\n",
      "        63.0       0.00      0.00      0.00         3\n",
      "        64.0       0.00      0.00      0.00         1\n",
      "        65.0       0.00      0.00      0.00         1\n",
      "        67.0       0.00      0.00      0.00         1\n",
      "        68.0       0.00      0.00      0.00         1\n",
      "        69.0       0.00      0.00      0.00         1\n",
      "        70.0       0.00      0.00      0.00         1\n",
      "        71.0       0.00      0.00      0.00         1\n",
      "        72.0       0.00      0.00      0.00         4\n",
      "        77.0       0.00      0.00      0.00         1\n",
      "        84.0       0.00      0.00      0.00         2\n",
      "        87.0       0.00      0.00      0.00         1\n",
      "        88.0       0.00      0.00      0.00         1\n",
      "        89.0       0.00      0.00      0.00         1\n",
      "        90.0       0.00      0.00      0.00         4\n",
      "        91.0       0.00      0.00      0.00         1\n",
      "        93.0       0.00      0.00      0.00         1\n",
      "        94.0       0.00      0.00      0.00         2\n",
      "        95.0       0.00      0.00      0.00         1\n",
      "        96.0       0.00      0.00      0.00         2\n",
      "        97.0       0.00      0.00      0.00         2\n",
      "        98.0       0.00      0.00      0.00         1\n",
      "        99.0       0.00      0.00      0.00         1\n",
      "       101.0       0.00      0.00      0.00         2\n",
      "       102.0       0.00      0.00      0.00         2\n",
      "       104.0       0.00      0.00      0.00         1\n",
      "       107.0       0.00      0.00      0.00         1\n",
      "       108.0       0.00      0.00      0.00         1\n",
      "       109.0       0.00      0.00      0.00         0\n",
      "       110.0       0.00      0.00      0.00         1\n",
      "       111.0       0.00      0.00      0.00         1\n",
      "       113.0       0.00      0.00      0.00         1\n",
      "       118.0       0.00      0.00      0.00         1\n",
      "       121.0       0.00      0.00      0.00         1\n",
      "       122.0       0.00      0.00      0.00         1\n",
      "       125.0       0.00      0.00      0.00         1\n",
      "       128.0       0.00      0.00      0.00         2\n",
      "       129.0       0.00      0.00      0.00         2\n",
      "       131.0       0.00      0.00      0.00         0\n",
      "       132.0       0.00      0.00      0.00         1\n",
      "       135.0       0.00      0.00      0.00         1\n",
      "       136.0       0.00      0.00      0.00         1\n",
      "       137.0       0.00      0.00      0.00         1\n",
      "       140.0       0.00      0.00      0.00         2\n",
      "       144.0       0.00      0.00      0.00         1\n",
      "       150.0       0.00      0.00      0.00         1\n",
      "       151.0       0.00      0.00      0.00         1\n",
      "       153.0       0.00      0.00      0.00         1\n",
      "       156.0       0.00      0.00      0.00         1\n",
      "       158.0       0.00      0.00      0.00         1\n",
      "       164.0       0.00      0.00      0.00         1\n",
      "       166.0       0.00      0.00      0.00         1\n",
      "       167.0       0.00      0.00      0.00         1\n",
      "       168.0       0.00      0.00      0.00         2\n",
      "       170.0       0.00      0.00      0.00         1\n",
      "       171.0       0.00      0.00      0.00         1\n",
      "       172.0       0.00      0.00      0.00         1\n",
      "       173.0       0.00      0.00      0.00         1\n",
      "       174.0       0.00      0.00      0.00         1\n",
      "       178.0       0.03      1.00      0.07         1\n",
      "       180.0       0.00      0.00      0.00         1\n",
      "       181.0       0.00      0.00      0.00         1\n",
      "       184.0       0.00      0.00      0.00         1\n",
      "       186.0       0.00      0.00      0.00         1\n",
      "       187.0       0.00      0.00      0.00         1\n",
      "       189.0       0.00      0.00      0.00         1\n",
      "       190.0       0.00      0.00      0.00         1\n",
      "       197.0       0.00      0.00      0.00         1\n",
      "       200.0       0.01      1.00      0.03         1\n",
      "       202.0       0.00      0.00      0.00         2\n",
      "       206.0       0.00      0.00      0.00         1\n",
      "       214.0       0.00      0.00      0.00         1\n",
      "       219.0       0.00      0.00      0.00         1\n",
      "       220.0       0.00      0.00      0.00         2\n",
      "       222.0       0.00      0.00      0.00         1\n",
      "       230.0       0.00      0.00      0.00         1\n",
      "       232.0       0.00      0.00      0.00         2\n",
      "       233.0       0.00      0.00      0.00         2\n",
      "       237.0       0.00      0.00      0.00         1\n",
      "       242.0       0.00      0.00      0.00         2\n",
      "       248.0       0.00      0.00      0.00         1\n",
      "       252.0       0.00      0.00      0.00         1\n",
      "       257.0       0.00      0.00      0.00         1\n",
      "       258.0       0.00      0.00      0.00         1\n",
      "       262.0       0.00      0.00      0.00         1\n",
      "       263.0       0.00      0.00      0.00         1\n",
      "       264.0       0.00      0.00      0.00         1\n",
      "       265.0       0.00      0.00      0.00         1\n",
      "       270.0       0.00      0.00      0.00         1\n",
      "       272.0       0.00      0.00      0.00         1\n",
      "       275.0       0.00      0.00      0.00         1\n",
      "       277.0       0.00      0.00      0.00         1\n",
      "       280.0       0.00      0.00      0.00         1\n",
      "       281.0       0.00      0.00      0.00         2\n",
      "       283.0       0.00      0.00      0.00         1\n",
      "       295.0       0.00      0.00      0.00         1\n",
      "       297.0       0.00      0.00      0.00         1\n",
      "       310.0       0.00      0.00      0.00         1\n",
      "\n",
      "    accuracy                           0.02       133\n",
      "   macro avg       0.00      0.02      0.00       133\n",
      "weighted avg       0.00      0.02      0.00       133\n",
      "\n"
     ]
    }
   ],
   "source": [
    "from sklearn.metrics import accuracy_score,classification_report\n",
    "print(accuracy_score(y_test,y_gr))\n",
    "print(classification_report(y_test,y_gr))"
   ]
  },
  {
   "cell_type": "code",
   "execution_count": 18,
   "metadata": {},
   "outputs": [],
   "source": [
    "parameter={'C':[.001,.01,.1,1,10,100,1000,10000],\n",
    "           'kernel':['linear','rbf'],\n",
    "           'degree':[1,2,3,4],\n",
    "            'gamma':[.001,.01,.1,1,10,100,1000,10000]}\n",
    "gr=GridSearchCV(svr,parameter,cv=5,return_train_score=True,refit=True)"
   ]
  },
  {
   "cell_type": "code",
   "execution_count": 19,
   "metadata": {},
   "outputs": [
    {
     "data": {
      "text/plain": [
       "GridSearchCV(cv=5, error_score='raise-deprecating',\n",
       "             estimator=SVR(C=1.0, cache_size=200, coef0=0.0, degree=3,\n",
       "                           epsilon=0.1, gamma='auto_deprecated', kernel='rbf',\n",
       "                           max_iter=-1, shrinking=True, tol=0.001,\n",
       "                           verbose=False),\n",
       "             iid='warn', n_jobs=None,\n",
       "             param_grid={'C': [0.001, 0.01, 0.1, 1, 10, 100, 1000, 10000],\n",
       "                         'degree': [1, 2, 3, 4],\n",
       "                         'gamma': [0.001, 0.01, 0.1, 1, 10, 100, 1000, 10000],\n",
       "                         'kernel': ['linear', 'rbf']},\n",
       "             pre_dispatch='2*n_jobs', refit=True, return_train_score=True,\n",
       "             scoring=None, verbose=0)"
      ]
     },
     "execution_count": 19,
     "metadata": {},
     "output_type": "execute_result"
    }
   ],
   "source": [
    "gr.fit(x_train_sc,y_train)"
   ]
  },
  {
   "cell_type": "code",
   "execution_count": 20,
   "metadata": {},
   "outputs": [
    {
     "data": {
      "text/plain": [
       "0.4542774599359161"
      ]
     },
     "execution_count": 20,
     "metadata": {},
     "output_type": "execute_result"
    }
   ],
   "source": [
    "gr.best_score_"
   ]
  },
  {
   "cell_type": "code",
   "execution_count": 21,
   "metadata": {},
   "outputs": [
    {
     "data": {
      "text/plain": [
       "{'C': 1000, 'degree': 1, 'gamma': 0.001, 'kernel': 'linear'}"
      ]
     },
     "execution_count": 21,
     "metadata": {},
     "output_type": "execute_result"
    }
   ],
   "source": [
    "gr.best_params_"
   ]
  },
  {
   "cell_type": "code",
   "execution_count": 32,
   "metadata": {},
   "outputs": [],
   "source": [
    "from sklearn.metrics import r2_score"
   ]
  },
  {
   "cell_type": "code",
   "execution_count": 33,
   "metadata": {},
   "outputs": [],
   "source": [
    "y_pr1=gr.predict(x_test_sc)"
   ]
  },
  {
   "cell_type": "code",
   "execution_count": 34,
   "metadata": {},
   "outputs": [
    {
     "data": {
      "text/plain": [
       "0.45848935490824283"
      ]
     },
     "execution_count": 34,
     "metadata": {},
     "output_type": "execute_result"
    }
   ],
   "source": [
    "r2_score(y_test,y_pr1)"
   ]
  },
  {
   "cell_type": "code",
   "execution_count": 35,
   "metadata": {},
   "outputs": [],
   "source": [
    "from sklearn.linear_model import LinearRegression\n",
    "li=LinearRegression()"
   ]
  },
  {
   "cell_type": "code",
   "execution_count": 36,
   "metadata": {},
   "outputs": [
    {
     "data": {
      "text/plain": [
       "LinearRegression(copy_X=True, fit_intercept=True, n_jobs=None, normalize=False)"
      ]
     },
     "execution_count": 36,
     "metadata": {},
     "output_type": "execute_result"
    }
   ],
   "source": [
    "li.fit(x_train_sc,y_train)"
   ]
  },
  {
   "cell_type": "code",
   "execution_count": 37,
   "metadata": {},
   "outputs": [],
   "source": [
    "y_prd1=li.predict(x_train_sc)"
   ]
  },
  {
   "cell_type": "code",
   "execution_count": 38,
   "metadata": {},
   "outputs": [
    {
     "data": {
      "text/plain": [
       "0.5244132008226972"
      ]
     },
     "execution_count": 38,
     "metadata": {},
     "output_type": "execute_result"
    }
   ],
   "source": [
    "r2_score(y_train,y_prd1)"
   ]
  },
  {
   "cell_type": "code",
   "execution_count": 39,
   "metadata": {},
   "outputs": [],
   "source": [
    "y_prd2=li.predict(x_test_sc)"
   ]
  },
  {
   "cell_type": "code",
   "execution_count": 40,
   "metadata": {},
   "outputs": [
    {
     "data": {
      "text/plain": [
       "0.477292017415733"
      ]
     },
     "execution_count": 40,
     "metadata": {},
     "output_type": "execute_result"
    }
   ],
   "source": [
    "r2_score(y_test,y_prd2)"
   ]
  },
  {
   "cell_type": "code",
   "execution_count": 77,
   "metadata": {},
   "outputs": [],
   "source": [
    "from sklearn.neighbors import KNeighborsRegressor\n",
    "knn=KNeighborsRegressor(n_neighbors=7)"
   ]
  },
  {
   "cell_type": "code",
   "execution_count": 78,
   "metadata": {},
   "outputs": [
    {
     "data": {
      "text/plain": [
       "KNeighborsRegressor(algorithm='auto', leaf_size=30, metric='minkowski',\n",
       "                    metric_params=None, n_jobs=None, n_neighbors=7, p=2,\n",
       "                    weights='uniform')"
      ]
     },
     "execution_count": 78,
     "metadata": {},
     "output_type": "execute_result"
    }
   ],
   "source": [
    "knn.fit(x_train_sc,y_train)"
   ]
  },
  {
   "cell_type": "code",
   "execution_count": 79,
   "metadata": {},
   "outputs": [],
   "source": [
    "y_kn=knn.predict(x_train_sc)"
   ]
  },
  {
   "cell_type": "code",
   "execution_count": 80,
   "metadata": {},
   "outputs": [
    {
     "data": {
      "text/plain": [
       "0.5446301103559532"
      ]
     },
     "execution_count": 80,
     "metadata": {},
     "output_type": "execute_result"
    }
   ],
   "source": [
    "r2_score(y_train,y_kn)"
   ]
  },
  {
   "cell_type": "code",
   "execution_count": 81,
   "metadata": {},
   "outputs": [],
   "source": [
    "y_kn1=knn.predict(x_test_sc)"
   ]
  },
  {
   "cell_type": "code",
   "execution_count": 82,
   "metadata": {},
   "outputs": [
    {
     "data": {
      "text/plain": [
       "0.42678485904131647"
      ]
     },
     "execution_count": 82,
     "metadata": {},
     "output_type": "execute_result"
    }
   ],
   "source": [
    "r2_score(y_test,y_kn1)"
   ]
  },
  {
   "cell_type": "code",
   "execution_count": null,
   "metadata": {},
   "outputs": [],
   "source": []
  }
 ],
 "metadata": {
  "kernelspec": {
   "display_name": "Python 3",
   "language": "python",
   "name": "python3"
  },
  "language_info": {
   "codemirror_mode": {
    "name": "ipython",
    "version": 3
   },
   "file_extension": ".py",
   "mimetype": "text/x-python",
   "name": "python",
   "nbconvert_exporter": "python",
   "pygments_lexer": "ipython3",
   "version": "3.7.3"
  }
 },
 "nbformat": 4,
 "nbformat_minor": 2
}
